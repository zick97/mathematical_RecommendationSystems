{
 "cells": [
  {
   "cell_type": "markdown",
   "metadata": {},
   "source": [
    "### Application of the Bayesian Ranking Algorithm\n",
    "Toy example: we are given 3 coins, each of them can either result in head (win) or tail (loss). We know that only one of them is fair, that is, $p(x=head)=0.5$: we have multiple objectives:\n",
    "- find the fair coin, \n",
    "- rank all three coins by probability of success,\n",
    "- win as many times as possible, i.e. toss more frequently the best-rewarding coin. \n",
    "\n",
    "Instead of tossing one coin at a time in order to collect data and rank them at the end, we're going to rank them by playing and updating the posterior distributions, sampling random points from them.\\\n",
    "This scenario can be easily translated into a recommender system, where, instead of win/loss, we have a certain score. This score could be: \n",
    "- Click-Through Rate (CTR), defined as $\\frac{N_c}{N}$, where $N_c$ is the number of times the item has been clicked and $N$ is the total number of appearences,\n",
    "- User ratings: in this case it could be useful to assign binary scores to each rating value.\n",
    "\n",
    "**IDEA** behind Bayesian Ranking: we do NOT rank by the average value, but we instead use the posterior distribution of this parameter to sample random points. That is the strength of Bayesian statistics: we can work with *distributions*, we end up in a non-deterministic frame and we can compute uncertainties.\n",
    "\n",
    "This approach also allows to automatically manage the **Explore-Exploit dilemma**, since the least-explored distribution (the one with the fewer samples) is favoured by the randomness of the sampling procedure."
   ]
  },
  {
   "cell_type": "markdown",
   "metadata": {},
   "source": [
    "For this type of Bernoullian situation, we can refer to the following relations:\n",
    "$$p(\\pi|X) = const \\times \\pi^{\\alpha' - 1}(1-\\pi)^{\\beta' - 1}$$\n",
    "$$\\alpha' = \\alpha + \\sum^N_{i=1}X_i$$\n",
    "$$\\beta' = \\beta + N - \\sum^{N}_{i=1}X_i$$\n",
    "\n",
    "This means that the expected value of the original Bernoulli distribution is $\\beta$-distributed. We want to retrieve exactly $\\pi$ by means of its posterior $p(\\pi|X)$."
   ]
  },
  {
   "cell_type": "code",
   "execution_count": 1,
   "metadata": {},
   "outputs": [],
   "source": [
    "# Import the usual libraries\n",
    "import numpy as np\n",
    "import matplotlib.pyplot as plt\n",
    "%matplotlib inline\n",
    "\n",
    "from IPython.display import clear_output\n",
    "\n",
    "# Import the beta distribution from scipy.stats\n",
    "from scipy.stats import beta\n",
    "\n",
    "# Create a class that simulates the coin tosses and updates the posterior distributions using Bayesian Ranking\n",
    "class Coin(object):\n",
    "    # Initialize the class with the flat posterior probability\n",
    "    # p is an array containing the true probabilities of the coins\n",
    "    def __init__(self, p=[]):\n",
    "        self.p = p\n",
    "        self.alpha = 1\n",
    "        self.beta = 1\n",
    "\n",
    "    # Simulate a coin toss based on the true probability\n",
    "    def toss(self):\n",
    "        return np.random.rand() < self.p\n",
    "\n",
    "    # Sample a random value from the posterior distribution\n",
    "    def sample(self):\n",
    "        return np.random.beta(self.alpha, self.beta)\n",
    "\n",
    "    # Update the posterior distribution based on the outcome of a coin toss\n",
    "    def update(self, x):\n",
    "        if x:\n",
    "            self.alpha += x\n",
    "        else:\n",
    "            self.beta += 1 - x\n",
    "\n",
    "    # Create a plot of the posterior distribution\n",
    "    def plot(self, coins, n):\n",
    "        x = np.linspace(0, 1, 500) # Create a list of 1000 x values between 0 and 1\n",
    "        # Create a plot of the posterior distribution for each coin\n",
    "        for c in coins:\n",
    "            y = beta.pdf(x, c.alpha, c.beta)\n",
    "            plt.plot(x, y, label=f'True p = {c.p}')\n",
    "        plt.legend()\n",
    "        plt.title(f'Posterior Distribution after {n} trials')\n",
    "        plt.xlabel('Probability of heads')\n",
    "        plt.ylabel('Density')\n",
    "        plt.grid(linestyle='--', alpha=0.5)\n",
    "        plt.show();\n",
    "\n",
    "    # Simulate a series of coin tosses and update the posterior distribution\n",
    "    def simulate(self, n):\n",
    "        # Create a list of 3 coins\n",
    "        coins = [Coin(true_p) for true_p in self.p]\n",
    "        for i in range(n):\n",
    "            # Define the maximum sample value (inside the loop because we update the samples every time we toss a coin)\n",
    "            maxsample = -1\n",
    "            # Create a list of sample values\n",
    "            samples = []\n",
    "            for coin in coins:\n",
    "                # Sample a random value from the posterior distribution: this will be used for ranking\n",
    "                sample = coin.sample()\n",
    "                samples.append(sample)\n",
    "                # Identify the coin with the maximum sample value (this is done do minimize the sub-optimal coin tosses)\n",
    "                if sample > maxsample:\n",
    "                    maxsample = sample\n",
    "                    maxcoin = coin\n",
    "            # Update the posterior distribution of the coin with the maximum sample value\n",
    "            maxcoin.update(maxcoin.toss())\n",
    "            # Every n coin tosses, plot the posterior distributions\n",
    "            if i in [5, 10, 20, 50, 100, 200, 500, 1000, 2000, 5000, 9999]:\n",
    "                # Print the 3 samples\n",
    "                print(samples)\n",
    "                # Clear the plot and wait for user input to continue\n",
    "                self.plot(coins, i)\n",
    "                c = input('Continue?')\n",
    "                if c == 'n':\n",
    "                    break\n",
    "                clear_output(wait=False)\n",
    "                \n",
    "        return print('Simulation completed!')"
   ]
  },
  {
   "cell_type": "code",
   "execution_count": 2,
   "metadata": {},
   "outputs": [
    {
     "name": "stdout",
     "output_type": "stream",
     "text": [
      "Simulation completed!\n"
     ]
    }
   ],
   "source": [
    "# Simulate 10000 coin tosses\n",
    "experiment = Coin(p=[0.2, 0.5, 0.75])\n",
    "experiment.simulate(10000)"
   ]
  }
 ],
 "metadata": {
  "kernelspec": {
   "display_name": "Python 3",
   "language": "python",
   "name": "python3"
  },
  "language_info": {
   "codemirror_mode": {
    "name": "ipython",
    "version": 3
   },
   "file_extension": ".py",
   "mimetype": "text/x-python",
   "name": "python",
   "nbconvert_exporter": "python",
   "pygments_lexer": "ipython3",
   "version": "3.11.3"
  }
 },
 "nbformat": 4,
 "nbformat_minor": 2
}
