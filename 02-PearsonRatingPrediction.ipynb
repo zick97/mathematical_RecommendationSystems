{
 "cells": [
  {
   "cell_type": "markdown",
   "metadata": {},
   "source": [
    "### Rating Prediction using Pearson Coefficients\n",
    "The idea is very simple: we are going to implement a user-user recommendation system based on the similarity between two users. This similarity is calculated using the Pearson correlation coefficients.\\\n",
    "The main object of this exercise is the **Ratings Matrix** $R(N\\times M)$, where $N$ is the number of users and $M$ is the number of movies. Notice that this is a **sparse matrix** because each user has rated only a few of the possible movies.\n",
    "#### Collaborative Filtering\n",
    "The goal is to compute a score for each user $i$, associated to each movie $j$:\n",
    "$$s(i,j)=\\hat{r}_{ij}$$\n",
    "where $\\hat{r}_{ij}$ is an element of the ratings matrix. The algorithm needs to implement the following equation, which takes into account the deviation from the average rating for each user, since each user has its own rating method:\n",
    "$$s(i,j)=\\bar{r}_i + \\frac{\\sum_{i'\\in \\Omega_j}w_{ii'}(r_{i'j}-\\bar{r}_{i'})}{\\sum_{i'\\in \\Omega_j}|w_{ii'}|}$$\n",
    "with:\n",
    "$$w_{ii'} = \\frac{\\sum_{j\\in\\psi_{ii'}}(r_{ij}-\\bar{r}_i)(r_{i'j}-\\bar{r}_{i'})}{\\sqrt{\\sum_{j\\in\\psi_{ii'}}(r_{ij}-\\bar{r}_i)^2} \\sqrt{\\sum_{j\\in\\psi_{ii'}}(r_{i'j}-\\bar{r}_{i'})^2}}$$\n",
    "where: \n",
    "- $\\Omega_j$ is the number of ratings for the movie $j$,\n",
    "- $\\psi_{ii'}$ is the set of movies rated by both $i$ and $i'$."
   ]
  },
  {
   "cell_type": "code",
   "execution_count": 168,
   "metadata": {},
   "outputs": [],
   "source": [
    "import pandas as pd\n",
    "\n",
    "# Load the data\n",
    "rating_df = pd.read_csv('archive/rating.csv')"
   ]
  },
  {
   "cell_type": "code",
   "execution_count": 169,
   "metadata": {},
   "outputs": [
    {
     "data": {
      "text/html": [
       "<div>\n",
       "<style scoped>\n",
       "    .dataframe tbody tr th:only-of-type {\n",
       "        vertical-align: middle;\n",
       "    }\n",
       "\n",
       "    .dataframe tbody tr th {\n",
       "        vertical-align: top;\n",
       "    }\n",
       "\n",
       "    .dataframe thead th {\n",
       "        text-align: right;\n",
       "    }\n",
       "</style>\n",
       "<table border=\"1\" class=\"dataframe\">\n",
       "  <thead>\n",
       "    <tr style=\"text-align: right;\">\n",
       "      <th></th>\n",
       "      <th>userId</th>\n",
       "      <th>movieId</th>\n",
       "      <th>rating</th>\n",
       "      <th>timestamp</th>\n",
       "    </tr>\n",
       "  </thead>\n",
       "  <tbody>\n",
       "    <tr>\n",
       "      <th>0</th>\n",
       "      <td>1</td>\n",
       "      <td>2</td>\n",
       "      <td>3.5</td>\n",
       "      <td>2005-04-02 23:53:47</td>\n",
       "    </tr>\n",
       "    <tr>\n",
       "      <th>1</th>\n",
       "      <td>1</td>\n",
       "      <td>29</td>\n",
       "      <td>3.5</td>\n",
       "      <td>2005-04-02 23:31:16</td>\n",
       "    </tr>\n",
       "    <tr>\n",
       "      <th>2</th>\n",
       "      <td>1</td>\n",
       "      <td>32</td>\n",
       "      <td>3.5</td>\n",
       "      <td>2005-04-02 23:33:39</td>\n",
       "    </tr>\n",
       "    <tr>\n",
       "      <th>3</th>\n",
       "      <td>1</td>\n",
       "      <td>47</td>\n",
       "      <td>3.5</td>\n",
       "      <td>2005-04-02 23:32:07</td>\n",
       "    </tr>\n",
       "    <tr>\n",
       "      <th>4</th>\n",
       "      <td>1</td>\n",
       "      <td>50</td>\n",
       "      <td>3.5</td>\n",
       "      <td>2005-04-02 23:29:40</td>\n",
       "    </tr>\n",
       "  </tbody>\n",
       "</table>\n",
       "</div>"
      ],
      "text/plain": [
       "   userId  movieId  rating            timestamp\n",
       "0       1        2     3.5  2005-04-02 23:53:47\n",
       "1       1       29     3.5  2005-04-02 23:31:16\n",
       "2       1       32     3.5  2005-04-02 23:33:39\n",
       "3       1       47     3.5  2005-04-02 23:32:07\n",
       "4       1       50     3.5  2005-04-02 23:29:40"
      ]
     },
     "execution_count": 169,
     "metadata": {},
     "output_type": "execute_result"
    }
   ],
   "source": [
    "# Take a look at the data\n",
    "rating_df.head()"
   ]
  },
  {
   "cell_type": "code",
   "execution_count": 170,
   "metadata": {},
   "outputs": [
    {
     "data": {
      "text/html": [
       "<div>\n",
       "<style scoped>\n",
       "    .dataframe tbody tr th:only-of-type {\n",
       "        vertical-align: middle;\n",
       "    }\n",
       "\n",
       "    .dataframe tbody tr th {\n",
       "        vertical-align: top;\n",
       "    }\n",
       "\n",
       "    .dataframe thead th {\n",
       "        text-align: right;\n",
       "    }\n",
       "</style>\n",
       "<table border=\"1\" class=\"dataframe\">\n",
       "  <thead>\n",
       "    <tr style=\"text-align: right;\">\n",
       "      <th></th>\n",
       "      <th>userId</th>\n",
       "      <th>movieId</th>\n",
       "      <th>rating</th>\n",
       "    </tr>\n",
       "  </thead>\n",
       "  <tbody>\n",
       "    <tr>\n",
       "      <th>0</th>\n",
       "      <td>1</td>\n",
       "      <td>2</td>\n",
       "      <td>3.5</td>\n",
       "    </tr>\n",
       "    <tr>\n",
       "      <th>1</th>\n",
       "      <td>1</td>\n",
       "      <td>29</td>\n",
       "      <td>3.5</td>\n",
       "    </tr>\n",
       "    <tr>\n",
       "      <th>2</th>\n",
       "      <td>1</td>\n",
       "      <td>32</td>\n",
       "      <td>3.5</td>\n",
       "    </tr>\n",
       "    <tr>\n",
       "      <th>3</th>\n",
       "      <td>1</td>\n",
       "      <td>47</td>\n",
       "      <td>3.5</td>\n",
       "    </tr>\n",
       "    <tr>\n",
       "      <th>4</th>\n",
       "      <td>1</td>\n",
       "      <td>50</td>\n",
       "      <td>3.5</td>\n",
       "    </tr>\n",
       "  </tbody>\n",
       "</table>\n",
       "</div>"
      ],
      "text/plain": [
       "   userId  movieId  rating\n",
       "0       1        2     3.5\n",
       "1       1       29     3.5\n",
       "2       1       32     3.5\n",
       "3       1       47     3.5\n",
       "4       1       50     3.5"
      ]
     },
     "execution_count": 170,
     "metadata": {},
     "output_type": "execute_result"
    }
   ],
   "source": [
    "# Keep only the relevant columns\n",
    "rating_df = rating_df[['userId', 'movieId', 'rating']]\n",
    "rating_df.head()"
   ]
  },
  {
   "cell_type": "markdown",
   "metadata": {},
   "source": [
    "As you can see, this structure is a bit different from the Ratings Matrix defined earlier. We now preprocess the data in order to replicate the $R(N\\times M)$ matrix."
   ]
  },
  {
   "cell_type": "code",
   "execution_count": 171,
   "metadata": {},
   "outputs": [
    {
     "name": "stdout",
     "output_type": "stream",
     "text": [
      "Unique users:  138493\n",
      "Min userId =  1\n",
      "Max userId =  138493\n"
     ]
    }
   ],
   "source": [
    "# How many users are there? Are there some values missing?\n",
    "print('Unique users: ', rating_df['userId'].nunique())\n",
    "print('Min userId = ', rating_df['userId'].min())\n",
    "print('Max userId = ', rating_df['userId'].max())"
   ]
  },
  {
   "cell_type": "code",
   "execution_count": 172,
   "metadata": {},
   "outputs": [
    {
     "name": "stdout",
     "output_type": "stream",
     "text": [
      "Unique users:  138493\n",
      "Min userId =  0\n",
      "Max userId =  138492\n"
     ]
    }
   ],
   "source": [
    "# All the userId's are used, so just subtract the min from the max to get the number of users\n",
    "rating_df['userId'] = rating_df['userId'] - rating_df['userId'].min()\n",
    "\n",
    "print('Unique users: ', rating_df['userId'].nunique())\n",
    "print('Min userId = ', rating_df['userId'].min())\n",
    "print('Max userId = ', rating_df['userId'].max())"
   ]
  },
  {
   "cell_type": "code",
   "execution_count": 173,
   "metadata": {},
   "outputs": [
    {
     "name": "stdout",
     "output_type": "stream",
     "text": [
      "Unique movies:  26744\n",
      "Min movieId =  1\n",
      "Max movieId =  131262\n"
     ]
    }
   ],
   "source": [
    "# This is not valid for the movieId, so we need to reindex the movieId's\n",
    "print('Unique movies: ', rating_df['movieId'].nunique())\n",
    "print('Min movieId = ', rating_df['movieId'].min())\n",
    "print('Max movieId = ', rating_df['movieId'].max())"
   ]
  },
  {
   "cell_type": "code",
   "execution_count": 174,
   "metadata": {},
   "outputs": [
    {
     "name": "stdout",
     "output_type": "stream",
     "text": [
      "Unique movies:  26744\n",
      "Min movieId =  0\n",
      "Max movieId =  26743\n"
     ]
    }
   ],
   "source": [
    "# Map the movieId's to a new range\n",
    "# Create a dictionary with the new index as value and the old index as key\n",
    "movieId_map = {movieId: i for i, movieId in enumerate(rating_df['movieId'].unique())}\n",
    "# Use the map function to replace the old index with the new one\n",
    "rating_df['movieId'] = rating_df['movieId'].map(movieId_map)\n",
    "print('Unique movies: ', rating_df['movieId'].nunique())\n",
    "print('Min movieId = ', rating_df['movieId'].min())\n",
    "print('Max movieId = ', rating_df['movieId'].max())"
   ]
  },
  {
   "cell_type": "code",
   "execution_count": 175,
   "metadata": {},
   "outputs": [],
   "source": [
    "# Save the data\n",
    "rating_df.to_csv('processed_data/rating.csv', index=False)"
   ]
  },
  {
   "cell_type": "markdown",
   "metadata": {},
   "source": [
    "Notice that `rating_df` does not contain the movie titles, therefore we have to apply either an inverse mapping to these new indexes or the same mapping to the `movie.csv` dataset.\n",
    "\n",
    "We now want to shrink the data since the dataset is too big to perform a $O(N^2)$ algorithm. We therefore select only the users who have rated the most number of movies and the movies that have been rated the most number of times."
   ]
  },
  {
   "cell_type": "code",
   "execution_count": 176,
   "metadata": {},
   "outputs": [],
   "source": [
    "rating_df = pd.read_csv('processed_data/rating.csv')\n",
    "\n",
    "# Select only the top n users by number of ratings\n",
    "n = 1000\n",
    "user_index = rating_df.groupby('userId').count().sort_values('rating', ascending=False).head(n).index\n",
    "rating_df = rating_df[rating_df['userId'].isin(user_index)]\n",
    "\n",
    "# Select only the top m movies by number of ratings\n",
    "m = 200\n",
    "movie_index = rating_df.groupby('movieId').count().sort_values('rating', ascending=False).head(m).index\n",
    "rating_df = rating_df[rating_df['movieId'].isin(movie_index)]"
   ]
  },
  {
   "cell_type": "code",
   "execution_count": 177,
   "metadata": {},
   "outputs": [],
   "source": [
    "# We effectively reduced the database length, now remap the userId's and movieId's\n",
    "user_map = {userId: i for i, userId in enumerate(rating_df['userId'].unique())}\n",
    "movie_map = {movieId: i for i, movieId in enumerate(rating_df['movieId'].unique())}\n",
    "rating_df['userId'] = rating_df['userId'].map(user_map)\n",
    "rating_df['movieId'] = rating_df['movieId'].map(movie_map)\n",
    "\n",
    "# Remove the old index\n",
    "rating_df.reset_index(drop=True, inplace=True)\n",
    "\n",
    "# Save the data\n",
    "rating_df.to_csv('processed_data/rating.csv', index=False)"
   ]
  },
  {
   "cell_type": "markdown",
   "metadata": {},
   "source": [
    "We now split the dataset in train and test sets. We then define 3 dictionaries to alleviate the computational complexity and to have a better view on the problem."
   ]
  },
  {
   "cell_type": "code",
   "execution_count": 178,
   "metadata": {},
   "outputs": [],
   "source": [
    "from sklearn.model_selection import train_test_split\n",
    "\n",
    "# Split the data into train and test, shuffling the data\n",
    "train_df, test_df = train_test_split(rating_df, test_size=0.2, random_state=42)"
   ]
  },
  {
   "cell_type": "code",
   "execution_count": 179,
   "metadata": {},
   "outputs": [],
   "source": [
    "# Dictionary containing users and the movies they rated\n",
    "user_movie = {}\n",
    "# Dictionary containing movies and the users that rated them\n",
    "movie_user = {}\n",
    "# Dictionary containing the ratings for each user-movie pair\n",
    "user_movie_rating = {}\n",
    "\n",
    "# Fill the dictionaries\n",
    "def fill_dict(row):\n",
    "    i = int(row['userId'])\n",
    "    j = int(row['movieId'])\n",
    "\n",
    "    # Update the user-movie dictionary\n",
    "    if i not in user_movie:\n",
    "        # Define a new key\n",
    "        user_movie[i] = [j]\n",
    "    else:\n",
    "        # Append the movieId to the list of movies for that user\n",
    "        user_movie[i].append(j)\n",
    "\n",
    "    # Update the movie-user dictionary\n",
    "    if j not in movie_user:\n",
    "        # Define a new key\n",
    "        movie_user[j] = [i]\n",
    "    else:\n",
    "        # Append the userId to the list of users for that movie\n",
    "        movie_user[j].append(i)\n",
    "\n",
    "    # Update the user-movie-rating dictionary\n",
    "    user_movie_rating[(i, j)] = row['rating']\n",
    "\n",
    "# Apply the function to the train data\n",
    "train_df.apply(fill_dict, axis=1);"
   ]
  },
  {
   "cell_type": "code",
   "execution_count": 180,
   "metadata": {},
   "outputs": [],
   "source": [
    "# Do the same for the test data, but we only need the user-movie rating pairs\n",
    "test_user_movie_rating = {}\n",
    "def fill_test_dict(row):\n",
    "    i = int(row['userId'])\n",
    "    j = int(row['movieId'])\n",
    "    test_user_movie_rating[(i, j)] = row['rating']\n",
    "\n",
    "test_df.apply(fill_test_dict, axis=1);"
   ]
  },
  {
   "cell_type": "markdown",
   "metadata": {},
   "source": [
    "We are now ready to go. Let's build a class that takes care of the training and also testing process, using the dictionaries we have just created."
   ]
  },
  {
   "cell_type": "code",
   "execution_count": 188,
   "metadata": {},
   "outputs": [],
   "source": [
    "from tqdm import tqdm\n",
    "from itertools import islice\n",
    "\n",
    "class PearsonRating():\n",
    "    # The inputs are the user-movie dictionary, the movie-user dictionary, and the user-movie-rating dictionary\n",
    "    def __init__(self, user_movie, movie_user, user_movie_rating):\n",
    "        self.user_movie = user_movie\n",
    "        self.movie_user = movie_user\n",
    "        self.user_movie_rating = user_movie_rating\n",
    "        self.user_mean = {}\n",
    "        self.weights = {}\n",
    "        self.predictions = {}\n",
    "\n",
    "    # Calculate the mean rating for each user\n",
    "    def compute_mean(self):\n",
    "        for user in self.user_movie:\n",
    "            self.user_mean[user] = sum([self.user_movie_rating[(user, movie)] for movie in self.user_movie[user]]) / len(self.user_movie[user])\n",
    "\n",
    "    # Calculate the Pearson correlation between two users i and j\n",
    "    def compute_weight(self, i, j):\n",
    "        # Compute the mean rating for the users if it hasn't been done yet\n",
    "        if self.user_mean == {}:\n",
    "            self.compute_mean()\n",
    "        # Get the movies that both users have rated\n",
    "        common_movies = list(set(self.user_movie[i]).intersection(self.user_movie[j]))\n",
    "        # If there are no common movies, return 0\n",
    "        if len(common_movies) == 0:\n",
    "            return 0\n",
    "        # Calculate the numerator and the denominators\n",
    "        num = sum([self.user_movie_rating[(i, movie)] - self.user_mean[i] for movie in common_movies]) * sum([self.user_movie_rating[(j, movie)] - self.user_mean[j] for movie in common_movies])\n",
    "        den1 = sum([(self.user_movie_rating[(i, movie)] - self.user_mean[i])**2 for movie in common_movies])\n",
    "        den2 = sum([(self.user_movie_rating[(j, movie)] - self.user_mean[j])**2 for movie in common_movies])\n",
    "        # Calculate the similarity, exluding the case where the denominator is 0\n",
    "        if den1 * den2 == 0:\n",
    "            return 0\n",
    "        else:\n",
    "            return num / (den1 * den2)**0.5\n",
    "    \n",
    "    # Compute all the weights for the users\n",
    "    def compute_all_weights(self):\n",
    "        for i in tqdm(self.user_movie, desc='Weights'):\n",
    "            for ii in self.user_movie:\n",
    "                if i != ii:\n",
    "                    self.weights[(i, ii)] = self.compute_weight(i, ii)\n",
    "    \n",
    "    # Calculate the prediction for user i and movie j\n",
    "    def predict(self, i, j, k=10):\n",
    "        # Select only the first k highest weights\n",
    "        weights = {user_pair: weight for user_pair, weight in zip(self.weights.keys(), self.weights.values()) if user_pair[0] == i}\n",
    "        # Using the abs() function to sort the weights by their absolute value, considering both positive and negative strong correlations\n",
    "        weights = {user_pair: weight for user_pair, weight in sorted(weights.items(), key=lambda x: abs(x[1]), reverse=True)}\n",
    "        # Use a custom function to take the first k elements of the dictionary and return them as a new dictionary\n",
    "        weights = dict(islice(weights.items(), k))\n",
    "\n",
    "        # If we have already calculated the prediction, return it\n",
    "        if (i, j) in self.predictions:\n",
    "            return self.predictions[(i, j)]\n",
    "        # Get the users that have rated the movie\n",
    "        users = self.movie_user[j]\n",
    "        num = 0\n",
    "        den = 0\n",
    "        # Calculate the prediction (score for the movie)\n",
    "        for user in users:\n",
    "            # Get the weight for the user pair\n",
    "            if (i, user) in weights:\n",
    "                weight = weights[(i, user)] \n",
    "                # Get the mean rating for the user\n",
    "                mean = self.user_mean[user]\n",
    "                # Calculate the numerator and the denominator\n",
    "                num += weight * (self.user_movie_rating[(user, j)] - mean)\n",
    "                den += abs(weight)\n",
    "        # If the denominator is 0, return the mean rating for the user\n",
    "        if den == 0:\n",
    "            return self.user_mean[i]\n",
    "        else:\n",
    "            return self.user_mean[i] + num / den\n",
    "        \n",
    "    # Predict the ratings for all the user i movie j pairs in the dataset\n",
    "    def predict_all(self, data, k=10):\n",
    "        if self.weights == {}:\n",
    "            self.compute_all_weights()\n",
    "        self.predictions = {}\n",
    "        for (i, j) in tqdm(data, desc='Predictions'):\n",
    "            self.predictions[(i, j)] = self.predict(i, j, k)\n",
    "\n",
    "    # Evaluate the predictions using the MSE for regression\n",
    "    def evaluate(self, data):\n",
    "        if len(self.predictions) < len(data):\n",
    "            self.predict_all(data)\n",
    "        mse = 0\n",
    "        # Compute the MSE for the data, i.e. the train/test user-movie-rating dictionary\n",
    "        for (i, j) in data:\n",
    "            if (i, j) in self.predictions:\n",
    "                mse += (self.predictions[(i, j)] - data[(i, j)])**2\n",
    "        return mse / len(data)\n",
    "    "
   ]
  },
  {
   "cell_type": "code",
   "execution_count": 185,
   "metadata": {},
   "outputs": [],
   "source": [
    "# Create the model\n",
    "model = PearsonRating(user_movie, movie_user, user_movie_rating)"
   ]
  },
  {
   "cell_type": "code",
   "execution_count": 190,
   "metadata": {},
   "outputs": [
    {
     "name": "stderr",
     "output_type": "stream",
     "text": [
      "Weights: 100%|██████████| 1000/1000 [03:48<00:00,  4.38it/s]\n"
     ]
    }
   ],
   "source": [
    "# Predict the ratings for the whole training set\n",
    "model.compute_all_weights()"
   ]
  },
  {
   "cell_type": "code",
   "execution_count": 191,
   "metadata": {},
   "outputs": [
    {
     "name": "stderr",
     "output_type": "stream",
     "text": [
      "Predictions: 100%|██████████| 34389/34389 [35:51<00:00, 15.99it/s]  "
     ]
    },
    {
     "name": "stdout",
     "output_type": "stream",
     "text": [
      "MSE test set =  0.9048972232554833\n"
     ]
    },
    {
     "name": "stderr",
     "output_type": "stream",
     "text": [
      "\n"
     ]
    }
   ],
   "source": [
    "# Evaluation on the test set\n",
    "model.predict_all(test_user_movie_rating)\n",
    "print('MSE test set = ', model.evaluate(test_user_movie_rating))"
   ]
  },
  {
   "cell_type": "code",
   "execution_count": 194,
   "metadata": {},
   "outputs": [],
   "source": [
    "# Plot the predictions for the test set: given a user, plot the true and predicted ratings for the movies\n",
    "import matplotlib.pyplot as plt\n",
    "\n",
    "def plot_predictions(user):\n",
    "    # Get the movies that the user has rated\n",
    "    movies = user_movie[user][:10]\n",
    "    movies.sort()\n",
    "    # Get the true ratings\n",
    "    true_ratings = [user_movie_rating[(user, movie)] for movie in movies]\n",
    "    # Get the predicted ratings\n",
    "    predicted_ratings = [model.predict(user, movie) for movie in movies]\n",
    "    # Create a dataframe with the true and predicted ratings\n",
    "    df = pd.DataFrame({'True': true_ratings, 'Predicted': predicted_ratings}, index=movies)\n",
    "    # Plot the dataframe\n",
    "    df.plot(kind='bar', figsize=(15, 5))\n",
    "    plt.title(f'User {user} - True vs Predicted ratings')\n",
    "    plt.xlabel('Movie')\n",
    "    plt.ylabel('Rating')\n",
    "    plt.grid(linestyle='--', alpha=0.3)\n",
    "    plt.show()"
   ]
  },
  {
   "cell_type": "code",
   "execution_count": 195,
   "metadata": {},
   "outputs": [
    {
     "data": {
      "image/png": "[encoded data removed]",
      "text/plain": [
       "<Figure size 1500x500 with 1 Axes>"
      ]
     },
     "metadata": {},
     "output_type": "display_data"
    }
   ],
   "source": [
    "plot_predictions(20)"
   ]
  },
  {
   "cell_type": "markdown",
   "metadata": {},
   "source": [
    "The predictive power is outstanding! A very nice feature is that we are only using the first 25 highest weights and, actually, we could even use less. Furthermore, even on a smaller dataset, the MSE is quite low. The major problem of this algorithm is the computational complexity and the very long time of execution."
   ]
  }
 ],
 "metadata": {
  "kernelspec": {
   "display_name": "Python 3",
   "language": "python",
   "name": "python3"
  },
  "language_info": {
   "codemirror_mode": {
    "name": "ipython",
    "version": 3
   },
   "file_extension": ".py",
   "mimetype": "text/x-python",
   "name": "python",
   "nbconvert_exporter": "python",
   "pygments_lexer": "ipython3",
   "version": "3.11.3"
  }
 },
 "nbformat": 4,
 "nbformat_minor": 2
}
